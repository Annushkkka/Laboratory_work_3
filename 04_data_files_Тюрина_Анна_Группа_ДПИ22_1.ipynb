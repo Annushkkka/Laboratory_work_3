{
  "cells": [
    {
      "cell_type": "markdown",
      "metadata": {
        "id": "-IPpSC0DEt7D"
      },
      "source": [
        "# Форматы данных (1)"
      ]
    },
    {
      "cell_type": "markdown",
      "metadata": {
        "id": "1OkReeK1Et7L"
      },
      "source": [
        "## Лабораторная работа №4"
      ]
    },
    {
      "cell_type": "markdown",
      "metadata": {
        "id": "hMbgJByeEt7M"
      },
      "source": [
        "### JSON"
      ]
    },
    {
      "cell_type": "markdown",
      "metadata": {
        "id": "bh95TkB6Et7M"
      },
      "source": [
        "1.1 Считайте файл `contributors_sample.json`. Воспользовавшись модулем `json`, преобразуйте содержимое файла в соответствующие объекты python. Выведите на экран информацию о первых 3 пользователях."
      ]
    },
    {
      "cell_type": "code",
      "execution_count": null,
      "metadata": {
        "id": "ZhSoOHHwEt7N"
      },
      "outputs": [],
      "source": [
        "import json\n",
        "\n",
        "with open('data/contributors_sample.json', 'r') as f:\n",
        "    data = json.load(f)\n",
        "\n",
        "for user in data[:3]:\n",
        "    print(user)\n"
      ]
    },
    {
      "cell_type": "markdown",
      "metadata": {
        "id": "8KsKZthPEt7P"
      },
      "source": [
        "1.2 Выведите уникальные почтовые домены, содержащиеся в почтовых адресах людей"
      ]
    },
    {
      "cell_type": "code",
      "execution_count": null,
      "metadata": {
        "id": "mwUWcyHQEt7Q"
      },
      "outputs": [],
      "source": [
        "import re\n",
        "\n",
        "with open('data/contributors_sample.json', 'r') as f:\n",
        "    data = json.load(f)\n",
        "\n",
        "domains = set()\n",
        "\n",
        "for user in data:\n",
        "    match = re.search(r'@([\\w.]+)', user['mail'])\n",
        "    if match:\n",
        "        domains.add(match.group(1))\n",
        "\n",
        "for domain in domains:\n",
        "    print(domain)"
      ]
    },
    {
      "cell_type": "markdown",
      "metadata": {
        "id": "SqnyjUaAEt7Q"
      },
      "source": [
        "1.3 Напишите функцию, которая по `username` ищет человека и выводит информацию о нем. Если пользователь с заданным `username` отсутствует, возбудите исключение `ValueError`"
      ]
    },
    {
      "cell_type": "code",
      "execution_count": null,
      "metadata": {
        "id": "d0PEQ1VKEt7R"
      },
      "outputs": [],
      "source": [
        "def find_user(username):\n",
        "    with open('data/contributors_sample.json', 'r') as f:\n",
        "        data = json.load(f)\n",
        "\n",
        "    for user in data:\n",
        "        if user['username'] == username:\n",
        "            return user\n",
        "\n",
        "    raise ValueError('User with username \"{}\" not found'.format(username))\n",
        "\n",
        "user = find_user('vickitaylor')\n",
        "print(user)"
      ]
    },
    {
      "cell_type": "markdown",
      "metadata": {
        "id": "3dGrd9RgEt7R"
      },
      "source": [
        "1.4 Посчитайте, сколько мужчин и женщин присутсвует в этом наборе данных."
      ]
    },
    {
      "cell_type": "code",
      "execution_count": null,
      "metadata": {
        "id": "Dl7dxtOKEt7S"
      },
      "outputs": [],
      "source": [
        "with open('data/contributors_sample.json', 'r') as f:\n",
        "    data = json.load(f)\n",
        "\n",
        "male_count = 0\n",
        "female_count = 0\n",
        "\n",
        "for user in data:\n",
        "    if user['sex'] == 'M':\n",
        "        male_count += 1\n",
        "    elif user['sex'] == 'F':\n",
        "        female_count += 1\n",
        "\n",
        "print('Number of males:', male_count)\n",
        "print('Number of females:', female_count)"
      ]
    },
    {
      "cell_type": "markdown",
      "metadata": {
        "id": "NN2gIXiyEt7S"
      },
      "source": [
        "1.5 Создайте `pd.DataFrame` `contributors`, имеющий столбцы `id`, `username` и `sex`."
      ]
    },
    {
      "cell_type": "code",
      "execution_count": null,
      "metadata": {
        "id": "H1XoBB_pEt7T"
      },
      "outputs": [],
      "source": [
        "import pandas as pd\n",
        "\n",
        "with open('data/contributors_sample.json', 'r') as f:\n",
        "    data = json.load(f)\n",
        "\n",
        "contributors = pd.DataFrame(data, columns=['id', 'username', 'sex'])\n",
        "\n",
        "print(contributors.head())"
      ]
    },
    {
      "cell_type": "markdown",
      "metadata": {
        "id": "04ZB25ESEt7T"
      },
      "source": [
        "1.6 Загрузите данные из файла `recipes_sample.csv` (__ЛР2__) в таблицу `recipes`. Объедините `recipes` с таблицей `contributors` с сохранением строк в том случае, если информация о человеке отсутствует в JSON-файле. Для скольких человек информация отсутствует? "
      ]
    },
    {
      "cell_type": "code",
      "execution_count": null,
      "metadata": {
        "id": "PH72qjgSEt7U",
        "outputId": "ca6de31b-4428-4c30-ec46-0c326670ecc3"
      },
      "outputs": [
        {
          "name": "stdout",
          "output_type": "stream",
          "text": [
            "Number of missing contributors: 4204\n"
          ]
        }
      ],
      "source": [
        "contributors = pd.read_json('data/contributors_sample.json')\n",
        "recipes = pd.read_csv('data/recipes_sample.csv')\n",
        "\n",
        "merged = pd.merge(recipes, contributors, left_on='contributor_id', right_on='id', how='left')\n",
        "\n",
        "missing_count = merged[merged['username'].isnull()]['contributor_id'].nunique()\n",
        "print('Number of missing contributors:', missing_count)"
      ]
    },
    {
      "cell_type": "markdown",
      "metadata": {
        "id": "ex69NiTpEt7V"
      },
      "source": [
        "### pickle"
      ]
    },
    {
      "cell_type": "markdown",
      "metadata": {
        "id": "kxJj2eSlEt7V"
      },
      "source": [
        "2.1 На основе файла `contributors_sample.json` создайте словарь следующего вида: \n",
        "```\n",
        "{\n",
        "    должность: [список username людей, занимавших эту должность]\n",
        "}\n",
        "```"
      ]
    },
    {
      "cell_type": "code",
      "execution_count": null,
      "metadata": {
        "id": "DgQ8MCIIEt7V"
      },
      "outputs": [],
      "source": [
        "import pickle\n",
        "\n",
        "positions = {}\n",
        "\n",
        "for user in data:\n",
        "    for position in user['jobs']:\n",
        "        if position not in positions:\n",
        "            positions[position] = [user['username']]\n",
        "        else:\n",
        "            positions[position].append(user['username'])\n",
        "\n",
        "with open('positions.pickle', 'wb') as f:\n",
        "    pickle.dump(positions, f)\n",
        "\n",
        "for job, usernames in positions.items():\n",
        "    print(job, usernames[:3])"
      ]
    },
    {
      "cell_type": "markdown",
      "metadata": {
        "id": "upEihnHSEt7W"
      },
      "source": [
        "2.2 Сохраните результаты в файл `job_people.pickle` и в файл `job_people.json` с использованием форматов pickle и JSON соответственно. Сравните объемы получившихся файлов. При сохранении в JSON укажите аргумент `indent`."
      ]
    },
    {
      "cell_type": "code",
      "execution_count": null,
      "metadata": {
        "id": "pazXcc7gEt7W"
      },
      "outputs": [],
      "source": [
        "jobs_dict = {}\n",
        "\n",
        "for user in data:\n",
        "    for job in user['jobs']:\n",
        "        if job not in jobs_dict:\n",
        "            jobs_dict[job] = []\n",
        "        jobs_dict[job].append(user['username'])\n",
        "\n",
        "# Сохраняем в формате pickle\n",
        "with open('job_people.pickle', 'wb') as f:\n",
        "    pickle.dump(jobs_dict, f)\n",
        "\n",
        "# Сохраняем в формате JSON\n",
        "with open('job_people.json', 'w') as f:\n",
        "    json.dump(jobs_dict, f, indent=4)"
      ]
    },
    {
      "cell_type": "markdown",
      "metadata": {
        "id": "97wfdY_9Et7W"
      },
      "source": [
        "2.3 Считайте файл `job_people.pickle` и продемонстрируйте, что данные считались корректно. "
      ]
    },
    {
      "cell_type": "code",
      "execution_count": null,
      "metadata": {
        "id": "XZS33qD2Et7X"
      },
      "outputs": [],
      "source": [
        "with open('job_people.pickle', 'rb') as f:\n",
        "    jobs_dict = pickle.load(f)\n",
        "\n",
        "for job, usernames in jobs_dict.items():\n",
        "    print(job, usernames[:3])"
      ]
    },
    {
      "cell_type": "markdown",
      "metadata": {
        "id": "xa35mv7nEt7X"
      },
      "source": [
        "Если файл job_people.pickle был записан корректно в предыдущем задании, этот код должен вывести содержимое словаря jobs_dict, который был создан на основе файла contributors_sample.json и содержит информацию о том, какие люди занимали какие должности."
      ]
    },
    {
      "cell_type": "markdown",
      "metadata": {
        "id": "yVQoxQwqEt7X"
      },
      "source": [
        "### XML"
      ]
    },
    {
      "cell_type": "markdown",
      "metadata": {
        "id": "KI1-lCcGEt7X"
      },
      "source": [
        "3.1 По данным файла `steps_sample.xml` сформируйте словарь с шагами по каждому рецепту вида `{id_рецепта: [\"шаг1\", \"шаг2\"]}`. Сохраните этот словарь в файл `steps_sample.json`"
      ]
    },
    {
      "cell_type": "code",
      "execution_count": null,
      "metadata": {
        "id": "EzKtQ9aXEt7Y"
      },
      "outputs": [],
      "source": [
        "import xml.etree.ElementTree as ET\n",
        "\n",
        "tree = ET.parse('data/steps_sample.xml')\n",
        "root = tree.getroot()\n",
        "\n",
        "steps_dict = {}\n",
        "\n",
        "for recipe in root.findall('recipe'):\n",
        "    recipe_id = recipe.get('id')\n",
        "    steps = [step.text.strip() for step in recipe.findall('step')]\n",
        "    steps_dict[recipe_id] = steps\n",
        "\n",
        "with open('steps_sample.json', 'w') as f:\n",
        "    json.dump(steps_dict, f)"
      ]
    },
    {
      "cell_type": "markdown",
      "metadata": {
        "id": "p4pBC-Z2Et7Y"
      },
      "source": [
        "3.2 По данным файла `steps_sample.xml` сформируйте словарь следующего вида: `кол-во_шагов_в_рецепте: [список_id_рецептов]`"
      ]
    },
    {
      "cell_type": "code",
      "execution_count": null,
      "metadata": {
        "id": "ytVYyuCkEt7Y"
      },
      "outputs": [],
      "source": [
        "tree = ET.parse('data/steps_sample.xml')\n",
        "root = tree.getroot()\n",
        "\n",
        "steps_dict = {}\n",
        "\n",
        "for recipe in root.findall('recipe'):\n",
        "    id_prescription = recipe.find('id').text\n",
        "    steps = recipe.find('steps').findall('step')\n",
        "    num_steps = len(steps)\n",
        "    if num_steps not in steps_dict:\n",
        "        steps_dict[num_steps] = [id_prescription]\n",
        "    else:\n",
        "        steps_dict[num_steps].append(id_prescription)\n",
        "\n",
        "for step, id in steps_dict.items():\n",
        "    print(step, id[:3])"
      ]
    },
    {
      "cell_type": "markdown",
      "metadata": {
        "id": "tIwr9wBxEt7Z"
      },
      "source": [
        "3.3 Получите список рецептов, в этапах выполнения которых есть информация о времени (часы или минуты). Для отбора подходящих рецептов обратите внимание на атрибуты соответствующих тэгов."
      ]
    },
    {
      "cell_type": "code",
      "execution_count": null,
      "metadata": {
        "id": "YUZXEc40Et7Z"
      },
      "outputs": [],
      "source": [
        "tree = ET.parse('data/steps_sample.xml')\n",
        "root = tree.getroot()\n",
        "\n",
        "recipes_with_time = []\n",
        "\n",
        "for recipe in root.findall('recipe'):\n",
        "    recipe_id = recipe.find('id').text\n",
        "    steps = recipe.findall('steps/step')\n",
        "    for step in steps:\n",
        "        if 'has_minutes' in step.attrib or 'has_hours' in step.attrib:\n",
        "            recipes_with_time.append(recipe_id)\n",
        "            break\n",
        "\n",
        "print(recipes_with_time[:30])"
      ]
    },
    {
      "cell_type": "markdown",
      "metadata": {
        "id": "rhBh370rEt7a"
      },
      "source": [
        "3.4 Загрузите данные из файла `recipes_sample.csv` (__ЛР2__) в таблицу `recipes`. Для строк, которые содержат пропуски в столбце `n_steps`, заполните этот столбец на основе файла  `steps_sample.xml`. Строки, в которых столбец `n_steps` заполнен, оставьте без изменений."
      ]
    },
    {
      "cell_type": "code",
      "execution_count": null,
      "metadata": {
        "id": "ym67OMRrEt7a"
      },
      "outputs": [],
      "source": [
        "import csv\n",
        "\n",
        "# Load data from CSV file\n",
        "recipes = pd.read_csv('data/recipes_sample.csv')\n",
        "\n",
        "# Load data from XML file\n",
        "tree = ET.parse('data/steps_sample.xml')\n",
        "root = tree.getroot()\n",
        "\n",
        "# Create dictionary of steps for each recipe\n",
        "steps_dict = {}\n",
        "for recipe in root.findall('recipe'):\n",
        "    recipe_id = recipe.find('id').text\n",
        "    steps = recipe.findall('steps/step')\n",
        "    steps_dict[recipe_id] = len(steps)\n",
        "\n",
        "# Fill missing n_steps values\n",
        "for i, row in recipes.iterrows():\n",
        "    recipe_id = row['id']\n",
        "    n_steps = row['n_steps']\n",
        "    if pd.isna(n_steps):\n",
        "        if recipe_id in steps_dict:\n",
        "            recipes.at[i, 'n_steps'] = steps_dict[recipe_id]\n",
        "\n",
        "# Display the updated DataFrame\n",
        "print(recipes)"
      ]
    },
    {
      "cell_type": "markdown",
      "metadata": {
        "id": "G9Jlb071Et7b"
      },
      "source": [
        "3.5 Проверьте, содержит ли столбец `n_steps` пропуски. Если нет, то преобразуйте его к целочисленному типу и сохраните результаты в файл `recipes_sample_with_filled_nsteps.csv`"
      ]
    },
    {
      "cell_type": "code",
      "execution_count": null,
      "metadata": {
        "id": "TBsB-7PIEt7b"
      },
      "outputs": [],
      "source": [
        "# Load recipes data\n",
        "recipes = pd.read_csv('data/recipes_sample.csv')\n",
        "\n",
        "# Check for missing values\n",
        "if recipes['n_steps'].isnull().any():\n",
        "    print('Column \"n_steps\" contains missing values')\n",
        "else:\n",
        "    # Convert n_steps to integer type\n",
        "    recipes['n_steps'] = recipes['n_steps'].astype(int)\n",
        "    # Save to file\n",
        "    recipes.to_csv('recipes_sample_with_filled_nsteps.csv', index=False)\n",
        "\n",
        "print(recipes)"
      ]
    }
  ],
  "metadata": {
    "kernelspec": {
      "display_name": "Python 3.10.1 64-bit",
      "language": "python",
      "name": "python3"
    },
    "language_info": {
      "codemirror_mode": {
        "name": "ipython",
        "version": 3
      },
      "file_extension": ".py",
      "mimetype": "text/x-python",
      "name": "python",
      "nbconvert_exporter": "python",
      "pygments_lexer": "ipython3",
      "version": "3.10.1"
    },
    "vscode": {
      "interpreter": {
        "hash": "bbc3c3d932324566a9bf4b4a52ddf64063695fc3adbf25b3fda92572428493bb"
      }
    },
    "colab": {
      "provenance": []
    }
  },
  "nbformat": 4,
  "nbformat_minor": 0
}